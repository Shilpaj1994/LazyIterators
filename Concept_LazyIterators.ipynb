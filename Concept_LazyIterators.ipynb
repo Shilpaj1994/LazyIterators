{
  "nbformat": 4,
  "nbformat_minor": 0,
  "metadata": {
    "colab": {
      "name": "Concept: LazyIterators.ipynb",
      "provenance": []
    },
    "kernelspec": {
      "name": "python3",
      "display_name": "Python 3"
    },
    "language_info": {
      "name": "python"
    }
  },
  "cells": [
    {
      "cell_type": "markdown",
      "metadata": {
        "id": "izczTNapnMXd"
      },
      "source": [
        "## Cyclic Iterators"
      ]
    },
    {
      "cell_type": "code",
      "metadata": {
        "id": "c10sZBG_nQoY"
      },
      "source": [
        "class CyclicIterator:\n",
        "    def __init__(self, lst):\n",
        "        self.lst = lst\n",
        "        self.i = 0\n",
        "\n",
        "    def __iter__(self):\n",
        "        return self\n",
        "\n",
        "    def __next__(self):\n",
        "        result = self.lst[self.i % len(self.lst)]\n",
        "        self.i += 1\n",
        "        return result"
      ],
      "execution_count": null,
      "outputs": []
    },
    {
      "cell_type": "code",
      "metadata": {
        "colab": {
          "base_uri": "https://localhost:8080/"
        },
        "id": "pr9aIBH0nUnC",
        "outputId": "4f40bff4-83a4-4f05-f7ec-693eddd76baf"
      },
      "source": [
        "iter_cycl = CyclicIterator('NSWE')\n",
        "\n",
        "for i in range(10):\n",
        "    print(next(iter(iter_cycl)))"
      ],
      "execution_count": null,
      "outputs": [
        {
          "output_type": "stream",
          "text": [
            "N\n",
            "S\n",
            "W\n",
            "E\n",
            "N\n",
            "S\n",
            "W\n",
            "E\n",
            "N\n",
            "S\n"
          ],
          "name": "stdout"
        }
      ]
    },
    {
      "cell_type": "code",
      "metadata": {
        "colab": {
          "base_uri": "https://localhost:8080/"
        },
        "id": "rg8X3BARnjj4",
        "outputId": "75e0c064-700c-475a-8fdd-9877622425f6"
      },
      "source": [
        "import itertools\n",
        "\n",
        "n = 10\n",
        "iter_cycl = itertools.cycle('NSWE')\n",
        "[f'{i}{next(iter_cycl)}' for i in range(1, n+1)]"
      ],
      "execution_count": null,
      "outputs": [
        {
          "output_type": "execute_result",
          "data": {
            "text/plain": [
              "['1N', '2S', '3W', '4E', '5N', '6S', '7W', '8E', '9N', '10S']"
            ]
          },
          "metadata": {
            "tags": []
          },
          "execution_count": 40
        }
      ]
    },
    {
      "cell_type": "markdown",
      "metadata": {
        "id": "NtFsdOdl22QB"
      },
      "source": [
        "## Iterables with limited length"
      ]
    },
    {
      "cell_type": "code",
      "metadata": {
        "id": "-T4agD9E2xL6"
      },
      "source": [
        "class Squares:\n",
        "  def __init__(self, length):\n",
        "    self._length = length\n",
        "\n",
        "  def __iter__(self):\n",
        "    return self.SquareIterator(self._length)\n",
        "\n",
        "  class SquareIterator:\n",
        "    def __init__(self, length):\n",
        "      self._length = length\n",
        "      self.i = 0\n",
        "\n",
        "    def __iter__(self):\n",
        "      return self\n",
        "\n",
        "    def __next__(self):\n",
        "      if self.i >= self._length:\n",
        "        raise StopIteration\n",
        "      else:\n",
        "        result = self.i ** 2\n",
        "        self.i += 1\n",
        "        return result"
      ],
      "execution_count": null,
      "outputs": []
    },
    {
      "cell_type": "code",
      "metadata": {
        "colab": {
          "base_uri": "https://localhost:8080/"
        },
        "id": "pyqlg6p_4V5W",
        "outputId": "ddd2ed7f-a78d-4c3a-ecaf-d031a165789a"
      },
      "source": [
        "square_iterables = Squares(5)\n",
        "\n",
        "for num in square_iterables:\n",
        "  print(num)"
      ],
      "execution_count": null,
      "outputs": [
        {
          "output_type": "stream",
          "text": [
            "0\n",
            "1\n",
            "4\n",
            "9\n",
            "16\n"
          ],
          "name": "stdout"
        }
      ]
    },
    {
      "cell_type": "markdown",
      "metadata": {
        "id": "HVW1nK_w5gLv"
      },
      "source": [
        "## Lazy Iterables"
      ]
    },
    {
      "cell_type": "code",
      "metadata": {
        "id": "2dJrMupZ5HAw"
      },
      "source": [
        "class Squares:\n",
        "  def __iter__(self):\n",
        "    return self.SquareIterator()\n",
        "\n",
        "  class SquareIterator:\n",
        "    def __init__(self):\n",
        "      self.i = 0\n",
        "\n",
        "    def __iter__(self):\n",
        "      return self\n",
        "\n",
        "    def __next__(self):\n",
        "      result = self.i ** 2\n",
        "      self.i += 1\n",
        "      return result"
      ],
      "execution_count": null,
      "outputs": []
    },
    {
      "cell_type": "code",
      "metadata": {
        "colab": {
          "base_uri": "https://localhost:8080/"
        },
        "id": "nuxPv8oN5y6K",
        "outputId": "3de8a9df-697c-4b7e-c106-a43dd9d5161f"
      },
      "source": [
        "square_lazy_iterables = Squares()\n",
        "square_lazy_iterator = iter(square_lazy_iterables)\n",
        "\n",
        "for _ in range(10):\n",
        "    print(next(square_lazy_iterator))"
      ],
      "execution_count": null,
      "outputs": [
        {
          "output_type": "stream",
          "text": [
            "0\n",
            "1\n",
            "4\n",
            "9\n",
            "16\n",
            "25\n",
            "36\n",
            "49\n",
            "64\n",
            "81\n"
          ],
          "name": "stdout"
        }
      ]
    },
    {
      "cell_type": "markdown",
      "metadata": {
        "id": "qJmRynP2QqfG"
      },
      "source": [
        "---\n",
        "\n",
        "## In-built Iterables"
      ]
    },
    {
      "cell_type": "code",
      "metadata": {
        "id": "Q5RyZDN1aAZa"
      },
      "source": [
        "def is_iterable(obj: 'Python Object') -> bool:\n",
        "    \"\"\"\"\n",
        "    Function to check if an obejct is Iterable or not\n",
        "    :param obj: object of a class (In Python since everything is an object, integers, floats, lists, etc can be passed as objects as well)\n",
        "    :return: Boolean value (True/False)\n",
        "    \"\"\"\n",
        "    try:\n",
        "        iter(obj)\n",
        "        return True\n",
        "    except TypeError:\n",
        "        return False"
      ],
      "execution_count": null,
      "outputs": []
    },
    {
      "cell_type": "code",
      "metadata": {
        "colab": {
          "base_uri": "https://localhost:8080/"
        },
        "id": "Kll8lBnfe4KR",
        "outputId": "bef83d87-cdaf-47fa-f966-c174bcad649b"
      },
      "source": [
        "print(is_iterable(range(1)))\n",
        "print(is_iterable(enumerate(range(10))))\n",
        "print(is_iterable(zip(range(10), range(11, 21))))"
      ],
      "execution_count": null,
      "outputs": [
        {
          "output_type": "stream",
          "text": [
            "True\n",
            "True\n",
            "True\n"
          ],
          "name": "stdout"
        }
      ]
    },
    {
      "cell_type": "markdown",
      "metadata": {
        "id": "elWeFIT3e2c6"
      },
      "source": [
        "### `range()`\n",
        "- It is a in-built **lazy iterable**\n",
        "- We can initialize large number of values but computation will only be done when it is called\n",
        "- The execution proves that it is lazy iterable"
      ]
    },
    {
      "cell_type": "code",
      "metadata": {
        "colab": {
          "base_uri": "https://localhost:8080/"
        },
        "id": "oqO-bLoU6Id-",
        "outputId": "c217cc7d-7c86-4a4f-8b35-af356df654e1"
      },
      "source": [
        "%%timeit\n",
        "l = range(10_000_000)\n",
        "l"
      ],
      "execution_count": null,
      "outputs": [
        {
          "output_type": "stream",
          "text": [
            "The slowest run took 5.72 times longer than the fastest. This could mean that an intermediate result is being cached.\n",
            "1000000 loops, best of 5: 245 ns per loop\n"
          ],
          "name": "stdout"
        }
      ]
    },
    {
      "cell_type": "code",
      "metadata": {
        "colab": {
          "base_uri": "https://localhost:8080/"
        },
        "id": "XmqWHPb3W-UQ",
        "outputId": "1c73ed5c-4c95-46aa-863d-2ac2f494186d"
      },
      "source": [
        "%%timeit\n",
        "l = list(range(10_000_000))\n",
        "l"
      ],
      "execution_count": null,
      "outputs": [
        {
          "output_type": "stream",
          "text": [
            "1 loop, best of 5: 285 ms per loop\n"
          ],
          "name": "stdout"
        }
      ]
    },
    {
      "cell_type": "markdown",
      "metadata": {
        "id": "RtNda_M_VkgP"
      },
      "source": [
        "### `zip()`\n",
        "- This is another lazy iterable available in Python\n",
        "- It will create an object which can zip the data of multiple lists but only executes them when it is called on the zip object\n",
        "- The execution time difference shows the lazy nature of zip iterable"
      ]
    },
    {
      "cell_type": "code",
      "metadata": {
        "id": "6ddBxZc2Q-ih"
      },
      "source": [
        "l1 = range(10)\n",
        "l2 = range(11, 21)\n",
        "\n",
        "z = zip(l1, l2)"
      ],
      "execution_count": null,
      "outputs": []
    },
    {
      "cell_type": "code",
      "metadata": {
        "colab": {
          "base_uri": "https://localhost:8080/"
        },
        "id": "QwhemM9yVWMd",
        "outputId": "61b2c1f8-7740-453c-9052-2c523006db35"
      },
      "source": [
        "%%timeit\n",
        "z"
      ],
      "execution_count": null,
      "outputs": [
        {
          "output_type": "stream",
          "text": [
            "The slowest run took 34.28 times longer than the fastest. This could mean that an intermediate result is being cached.\n",
            "10000000 loops, best of 5: 34.2 ns per loop\n"
          ],
          "name": "stdout"
        }
      ]
    },
    {
      "cell_type": "code",
      "metadata": {
        "colab": {
          "base_uri": "https://localhost:8080/"
        },
        "id": "HSSqE2plVyf_",
        "outputId": "896816f8-ff19-4062-d19f-2ed7454d6259"
      },
      "source": [
        "%%timeit\n",
        "list(z)"
      ],
      "execution_count": null,
      "outputs": [
        {
          "output_type": "stream",
          "text": [
            "The slowest run took 16.91 times longer than the fastest. This could mean that an intermediate result is being cached.\n",
            "1000000 loops, best of 5: 220 ns per loop\n"
          ],
          "name": "stdout"
        }
      ]
    },
    {
      "cell_type": "markdown",
      "metadata": {
        "id": "yg6adAC1WBKA"
      },
      "source": [
        "### `enumerate()`\n",
        "- This is another lazy iterable available in Python\n",
        "- It will create an object which can enumerate the data but only executes them when it is called on the enumerate object\n",
        "- The execution time difference shows the lazy nature of enumerate iterable"
      ]
    },
    {
      "cell_type": "code",
      "metadata": {
        "id": "7qkwdgI-V2dS"
      },
      "source": [
        "l1 = list(range(100))\n",
        "l1.reverse()\n",
        "\n",
        "en = enumerate(l1)"
      ],
      "execution_count": null,
      "outputs": []
    },
    {
      "cell_type": "code",
      "metadata": {
        "colab": {
          "base_uri": "https://localhost:8080/"
        },
        "id": "NXgZrRJcWNEs",
        "outputId": "930e44ee-9d60-4436-a756-48143a89454a"
      },
      "source": [
        "%%timeit\n",
        "en"
      ],
      "execution_count": null,
      "outputs": [
        {
          "output_type": "stream",
          "text": [
            "The slowest run took 36.63 times longer than the fastest. This could mean that an intermediate result is being cached.\n",
            "10000000 loops, best of 5: 35.5 ns per loop\n"
          ],
          "name": "stdout"
        }
      ]
    },
    {
      "cell_type": "code",
      "metadata": {
        "colab": {
          "base_uri": "https://localhost:8080/"
        },
        "id": "0ByJxVHzWX5b",
        "outputId": "5a0ca378-2d2f-4aa4-e9cf-3c959311fc84"
      },
      "source": [
        "%%timeit\n",
        "list(en)"
      ],
      "execution_count": null,
      "outputs": [
        {
          "output_type": "stream",
          "text": [
            "The slowest run took 57.82 times longer than the fastest. This could mean that an intermediate result is being cached.\n",
            "1000000 loops, best of 5: 217 ns per loop\n"
          ],
          "name": "stdout"
        }
      ]
    },
    {
      "cell_type": "markdown",
      "metadata": {
        "id": "1crkDXkdZsqZ"
      },
      "source": [
        "---\n",
        "\n",
        "## Sorting Iterables"
      ]
    },
    {
      "cell_type": "code",
      "metadata": {
        "id": "-2kBLahWWgHc"
      },
      "source": [
        "import random\n",
        "\n",
        "class RandomInts:\n",
        "    def __init__(self, length, *, seed=0, lower=0, upper=10):\n",
        "        self.length = length\n",
        "        self.seed = seed\n",
        "        self.lower = lower\n",
        "        self.upper = upper\n",
        "        \n",
        "    def __len__(self):\n",
        "        return self.length\n",
        "    \n",
        "    def __iter__(self):\n",
        "        return self.RandomIterator(self.length, \n",
        "                                   seed = self.seed, \n",
        "                                   lower = self.lower,\n",
        "                                   upper=self.upper)\n",
        "    \n",
        "    \n",
        "    class RandomIterator:\n",
        "        def __init__(self, length, *, seed, lower, upper):\n",
        "            self.length = length\n",
        "            self.lower = lower\n",
        "            self.upper = upper\n",
        "            self.num_requests = 0\n",
        "            random.seed(seed)\n",
        "            \n",
        "        def __iter__(self):\n",
        "            return self\n",
        "        \n",
        "        def __next__(self):\n",
        "            if self.num_requests >= self.length:\n",
        "                raise StopIteration\n",
        "            else:\n",
        "                result = random.randint(self.lower, self.upper)\n",
        "                self.num_requests += 1\n",
        "                return result"
      ],
      "execution_count": null,
      "outputs": []
    },
    {
      "cell_type": "code",
      "metadata": {
        "id": "e7JlTg7ugbQD"
      },
      "source": [
        "randoms = RandomInts(10)"
      ],
      "execution_count": null,
      "outputs": []
    },
    {
      "cell_type": "code",
      "metadata": {
        "colab": {
          "base_uri": "https://localhost:8080/"
        },
        "id": "GTo9BJEsge5a",
        "outputId": "13a63978-faaa-4204-cd80-62dc26ff0f5c"
      },
      "source": [
        "sorted(randoms)"
      ],
      "execution_count": null,
      "outputs": [
        {
          "output_type": "execute_result",
          "data": {
            "text/plain": [
              "[0, 4, 4, 5, 6, 6, 6, 7, 7, 8]"
            ]
          },
          "metadata": {
            "tags": []
          },
          "execution_count": 36
        }
      ]
    },
    {
      "cell_type": "code",
      "metadata": {
        "colab": {
          "base_uri": "https://localhost:8080/"
        },
        "id": "4usc-lNFgpbe",
        "outputId": "65f7450a-d474-4f99-9a2b-c21fe1928d26"
      },
      "source": [
        "sorted(randoms, reverse=True)"
      ],
      "execution_count": null,
      "outputs": [
        {
          "output_type": "execute_result",
          "data": {
            "text/plain": [
              "[8, 7, 7, 6, 6, 6, 5, 4, 4, 0]"
            ]
          },
          "metadata": {
            "tags": []
          },
          "execution_count": 37
        }
      ]
    },
    {
      "cell_type": "markdown",
      "metadata": {
        "id": "IzMratzyob-l"
      },
      "source": [
        "---\n",
        "\n",
        "## Iterating Callable\n",
        "\n",
        "\n"
      ]
    },
    {
      "cell_type": "code",
      "metadata": {
        "id": "VV0qQGshgsdp"
      },
      "source": [
        "def counter():\n",
        "    i = 0\n",
        "    def inc():\n",
        "        nonlocal i \n",
        "        i += 1\n",
        "        return i\n",
        "    return inc"
      ],
      "execution_count": null,
      "outputs": []
    },
    {
      "cell_type": "code",
      "metadata": {
        "id": "x-4yWuNoo5z9"
      },
      "source": [
        "class CounterIterator:\n",
        "    def __init__(self, counter_callable, sentinel):\n",
        "        self.counter_callable = counter_callable\n",
        "        self.sentinel = sentinel\n",
        "        self.is_consumed = False\n",
        "\n",
        "    def __iter__(self):\n",
        "        return self\n",
        "\n",
        "    def __next__(self):\n",
        "        if self.is_consumed:\n",
        "            raise StopIteration\n",
        "        else:\n",
        "            result = self.counter_callable()\n",
        "            if result == self.sentinel:\n",
        "                self.is_consumed = True\n",
        "                raise StopIteration\n",
        "\n",
        "            else:\n",
        "                return result\n"
      ],
      "execution_count": null,
      "outputs": []
    },
    {
      "cell_type": "code",
      "metadata": {
        "colab": {
          "base_uri": "https://localhost:8080/"
        },
        "id": "NNDgCpUZo8Ry",
        "outputId": "e14df757-5cd2-4fc3-f427-f1e89603568c"
      },
      "source": [
        "cnt = counter()\n",
        "cnt_iter = CounterIterator(cnt, 5)\n",
        "\n",
        "for c in cnt_iter:\n",
        "    print(c)"
      ],
      "execution_count": null,
      "outputs": [
        {
          "output_type": "stream",
          "text": [
            "1\n",
            "2\n",
            "3\n",
            "4\n"
          ],
          "name": "stdout"
        }
      ]
    },
    {
      "cell_type": "markdown",
      "metadata": {
        "id": "mSRJiviXLuoZ"
      },
      "source": [
        "---\n",
        "\n",
        "## Delegating Iterators"
      ]
    },
    {
      "cell_type": "code",
      "metadata": {
        "id": "rSwX8_lxMDtQ"
      },
      "source": [
        "from collections import namedtuple\n",
        "\n",
        "Person = namedtuple('Person', 'first last')"
      ],
      "execution_count": null,
      "outputs": []
    },
    {
      "cell_type": "code",
      "metadata": {
        "id": "UTF3P87go-X5"
      },
      "source": [
        "class PersonNames:\n",
        "    def __init__(self, persons):\n",
        "        try:\n",
        "            self._persons = [person.first.capitalize()\n",
        "                             + ' ' + person.last.capitalize()\n",
        "                            for person in persons]\n",
        "        except (TypeError, AttributeError):\n",
        "            self._persons = []\n",
        "\n",
        "    def __iter__(self):\n",
        "        return iter(self._persons)"
      ],
      "execution_count": null,
      "outputs": []
    },
    {
      "cell_type": "code",
      "metadata": {
        "id": "25QA0-vCL4Wz"
      },
      "source": [
        "persons = [Person('michaeL', 'horDON'), Person('srikanth', 'latify'), Person('maX', 'VertaPPEn')]\n",
        "\n",
        "person_names = PersonNames(persons)"
      ],
      "execution_count": null,
      "outputs": []
    },
    {
      "cell_type": "code",
      "metadata": {
        "colab": {
          "base_uri": "https://localhost:8080/"
        },
        "id": "NqhY5VquL7LD",
        "outputId": "61ba8c8a-8787-4135-c602-b564eb087bf6"
      },
      "source": [
        "for p in person_names:\n",
        "    print(p)"
      ],
      "execution_count": null,
      "outputs": [
        {
          "output_type": "stream",
          "text": [
            "Michael Hordon\n",
            "Srikanth Latify\n",
            "Max Vertappen\n"
          ],
          "name": "stdout"
        }
      ]
    },
    {
      "cell_type": "code",
      "metadata": {
        "colab": {
          "base_uri": "https://localhost:8080/"
        },
        "id": "ClilQYcBMFVm",
        "outputId": "a503fa64-b087-45bd-ea51-11cb41dd9153"
      },
      "source": [
        "[tuple(person_name.split()) for person_name in sorted(person_names)]"
      ],
      "execution_count": null,
      "outputs": [
        {
          "output_type": "execute_result",
          "data": {
            "text/plain": [
              "[('Max', 'Vertappen'), ('Michael', 'Hordon'), ('Srikanth', 'Latify')]"
            ]
          },
          "metadata": {
            "tags": []
          },
          "execution_count": 7
        }
      ]
    },
    {
      "cell_type": "markdown",
      "metadata": {
        "id": "-5v74GGOMuNE"
      },
      "source": [
        "---\n",
        "\n",
        "## Reversed Iteration"
      ]
    },
    {
      "cell_type": "code",
      "metadata": {
        "id": "0jfw-a-IMOHr"
      },
      "source": [
        "_SUITS = ('Spades', 'Hearts', 'Diamonds', 'Clubs')\n",
        "_RANKS = tuple(range(2, 11) ) + ('J', 'Q', 'K', 'A')\n",
        "from collections import namedtuple\n",
        "\n",
        "Card = namedtuple('Card', 'rank suit')\n",
        "\n",
        "class CardDeck:\n",
        "    def __init__(self):\n",
        "        self.length = len(_SUITS) * len(_RANKS)\n",
        "\n",
        "    def __len__(self):\n",
        "        return self.length\n",
        "    \n",
        "    def __iter__(self):\n",
        "        return self.CardDeckIterator(self.length)\n",
        "        \n",
        "    def __reversed__(self):\n",
        "        return self.CardDeckIterator(self.length, reverse=True)\n",
        "    \n",
        "    class CardDeckIterator:\n",
        "        def __init__(self, length, *, reverse=False):\n",
        "            self.length = length\n",
        "            self.reverse = reverse\n",
        "            self.i = 0\n",
        "            \n",
        "        def __iter__(self):\n",
        "            return self\n",
        "        \n",
        "        def __next__(self):\n",
        "            if self.i >= self.length:\n",
        "                raise StopIteration\n",
        "            else:\n",
        "                if self.reverse:\n",
        "                    index = self.length -1 - self.i\n",
        "                else:\n",
        "                    index = self.i\n",
        "                suit = _SUITS[index // len(_RANKS)]\n",
        "                rank = _RANKS[index % len(_RANKS)]\n",
        "                self.i += 1\n",
        "                return Card(rank, suit)"
      ],
      "execution_count": null,
      "outputs": []
    },
    {
      "cell_type": "code",
      "metadata": {
        "id": "MxHySngTMxiZ"
      },
      "source": [
        "deck = CardDeck()"
      ],
      "execution_count": null,
      "outputs": []
    },
    {
      "cell_type": "code",
      "metadata": {
        "colab": {
          "base_uri": "https://localhost:8080/"
        },
        "id": "eolp4xXfM0lh",
        "outputId": "04df5518-87c7-44e8-c7fe-9737b9309345"
      },
      "source": [
        "for card in deck:\n",
        "    print(card)"
      ],
      "execution_count": null,
      "outputs": [
        {
          "output_type": "stream",
          "text": [
            "Card(rank=2, suit='Spades')\n",
            "Card(rank=3, suit='Spades')\n",
            "Card(rank=4, suit='Spades')\n",
            "Card(rank=5, suit='Spades')\n",
            "Card(rank=6, suit='Spades')\n",
            "Card(rank=7, suit='Spades')\n",
            "Card(rank=8, suit='Spades')\n",
            "Card(rank=9, suit='Spades')\n",
            "Card(rank=10, suit='Spades')\n",
            "Card(rank='J', suit='Spades')\n",
            "Card(rank='Q', suit='Spades')\n",
            "Card(rank='K', suit='Spades')\n",
            "Card(rank='A', suit='Spades')\n",
            "Card(rank=2, suit='Hearts')\n",
            "Card(rank=3, suit='Hearts')\n",
            "Card(rank=4, suit='Hearts')\n",
            "Card(rank=5, suit='Hearts')\n",
            "Card(rank=6, suit='Hearts')\n",
            "Card(rank=7, suit='Hearts')\n",
            "Card(rank=8, suit='Hearts')\n",
            "Card(rank=9, suit='Hearts')\n",
            "Card(rank=10, suit='Hearts')\n",
            "Card(rank='J', suit='Hearts')\n",
            "Card(rank='Q', suit='Hearts')\n",
            "Card(rank='K', suit='Hearts')\n",
            "Card(rank='A', suit='Hearts')\n",
            "Card(rank=2, suit='Diamonds')\n",
            "Card(rank=3, suit='Diamonds')\n",
            "Card(rank=4, suit='Diamonds')\n",
            "Card(rank=5, suit='Diamonds')\n",
            "Card(rank=6, suit='Diamonds')\n",
            "Card(rank=7, suit='Diamonds')\n",
            "Card(rank=8, suit='Diamonds')\n",
            "Card(rank=9, suit='Diamonds')\n",
            "Card(rank=10, suit='Diamonds')\n",
            "Card(rank='J', suit='Diamonds')\n",
            "Card(rank='Q', suit='Diamonds')\n",
            "Card(rank='K', suit='Diamonds')\n",
            "Card(rank='A', suit='Diamonds')\n",
            "Card(rank=2, suit='Clubs')\n",
            "Card(rank=3, suit='Clubs')\n",
            "Card(rank=4, suit='Clubs')\n",
            "Card(rank=5, suit='Clubs')\n",
            "Card(rank=6, suit='Clubs')\n",
            "Card(rank=7, suit='Clubs')\n",
            "Card(rank=8, suit='Clubs')\n",
            "Card(rank=9, suit='Clubs')\n",
            "Card(rank=10, suit='Clubs')\n",
            "Card(rank='J', suit='Clubs')\n",
            "Card(rank='Q', suit='Clubs')\n",
            "Card(rank='K', suit='Clubs')\n",
            "Card(rank='A', suit='Clubs')\n"
          ],
          "name": "stdout"
        }
      ]
    },
    {
      "cell_type": "code",
      "metadata": {
        "colab": {
          "base_uri": "https://localhost:8080/"
        },
        "id": "DAGL-2HTM5tJ",
        "outputId": "5aecc1db-d4de-4f24-f2d5-4b9d8edfb0f3"
      },
      "source": [
        "deck = reversed(CardDeck())\n",
        "for card in deck:\n",
        "    print(card)"
      ],
      "execution_count": null,
      "outputs": [
        {
          "output_type": "stream",
          "text": [
            "Card(rank='A', suit='Clubs')\n",
            "Card(rank='K', suit='Clubs')\n",
            "Card(rank='Q', suit='Clubs')\n",
            "Card(rank='J', suit='Clubs')\n",
            "Card(rank=10, suit='Clubs')\n",
            "Card(rank=9, suit='Clubs')\n",
            "Card(rank=8, suit='Clubs')\n",
            "Card(rank=7, suit='Clubs')\n",
            "Card(rank=6, suit='Clubs')\n",
            "Card(rank=5, suit='Clubs')\n",
            "Card(rank=4, suit='Clubs')\n",
            "Card(rank=3, suit='Clubs')\n",
            "Card(rank=2, suit='Clubs')\n",
            "Card(rank='A', suit='Diamonds')\n",
            "Card(rank='K', suit='Diamonds')\n",
            "Card(rank='Q', suit='Diamonds')\n",
            "Card(rank='J', suit='Diamonds')\n",
            "Card(rank=10, suit='Diamonds')\n",
            "Card(rank=9, suit='Diamonds')\n",
            "Card(rank=8, suit='Diamonds')\n",
            "Card(rank=7, suit='Diamonds')\n",
            "Card(rank=6, suit='Diamonds')\n",
            "Card(rank=5, suit='Diamonds')\n",
            "Card(rank=4, suit='Diamonds')\n",
            "Card(rank=3, suit='Diamonds')\n",
            "Card(rank=2, suit='Diamonds')\n",
            "Card(rank='A', suit='Hearts')\n",
            "Card(rank='K', suit='Hearts')\n",
            "Card(rank='Q', suit='Hearts')\n",
            "Card(rank='J', suit='Hearts')\n",
            "Card(rank=10, suit='Hearts')\n",
            "Card(rank=9, suit='Hearts')\n",
            "Card(rank=8, suit='Hearts')\n",
            "Card(rank=7, suit='Hearts')\n",
            "Card(rank=6, suit='Hearts')\n",
            "Card(rank=5, suit='Hearts')\n",
            "Card(rank=4, suit='Hearts')\n",
            "Card(rank=3, suit='Hearts')\n",
            "Card(rank=2, suit='Hearts')\n",
            "Card(rank='A', suit='Spades')\n",
            "Card(rank='K', suit='Spades')\n",
            "Card(rank='Q', suit='Spades')\n",
            "Card(rank='J', suit='Spades')\n",
            "Card(rank=10, suit='Spades')\n",
            "Card(rank=9, suit='Spades')\n",
            "Card(rank=8, suit='Spades')\n",
            "Card(rank=7, suit='Spades')\n",
            "Card(rank=6, suit='Spades')\n",
            "Card(rank=5, suit='Spades')\n",
            "Card(rank=4, suit='Spades')\n",
            "Card(rank=3, suit='Spades')\n",
            "Card(rank=2, suit='Spades')\n"
          ],
          "name": "stdout"
        }
      ]
    },
    {
      "cell_type": "code",
      "metadata": {
        "id": "H1X4K9_gM8kd"
      },
      "source": [
        "class Squares:\n",
        "    def __init__(self, length):\n",
        "        self.length = length\n",
        "        self.squares = [i **2 for i in range(length)]\n",
        "        \n",
        "    def __len__(self):\n",
        "        return len(self.squares)\n",
        "    \n",
        "    def __getitem__(self, s):\n",
        "        return self.squares[s]\n",
        "    \n",
        "    def __reversed__(self):\n",
        "        print('__reversed__ called')\n",
        "        return [i for i in range(self.length-1, -1, -1)]"
      ],
      "execution_count": null,
      "outputs": []
    },
    {
      "cell_type": "markdown",
      "metadata": {
        "id": "4NBichZ1VKKh"
      },
      "source": [
        "---\n",
        "\n",
        "## Iterators as function arguments"
      ]
    },
    {
      "cell_type": "code",
      "metadata": {
        "id": "wDG0MlaoNOYa"
      },
      "source": [
        "import random\n",
        "\n",
        "class Randoms:\n",
        "    def __init__(self, n):\n",
        "        self.n = n\n",
        "        self.i = 0\n",
        "        \n",
        "    def __iter__(self):\n",
        "        return self\n",
        "    \n",
        "    def __next__(self):\n",
        "        if self.i >= self.n:\n",
        "            raise StopIteration\n",
        "        else:\n",
        "            self.i += 1\n",
        "            return random.randint(0, 100)"
      ],
      "execution_count": null,
      "outputs": []
    },
    {
      "cell_type": "code",
      "metadata": {
        "colab": {
          "base_uri": "https://localhost:8080/"
        },
        "id": "A7-FiXpRWlTf",
        "outputId": "7fbce662-18b5-48c3-c5d0-3519412ca0cc"
      },
      "source": [
        "random.seed(0)\n",
        "l = Randoms(10)\n",
        "\n",
        "min(l)"
      ],
      "execution_count": null,
      "outputs": [
        {
          "output_type": "execute_result",
          "data": {
            "text/plain": [
              "5"
            ]
          },
          "metadata": {
            "tags": []
          },
          "execution_count": 14
        }
      ]
    },
    {
      "cell_type": "code",
      "metadata": {
        "colab": {
          "base_uri": "https://localhost:8080/",
          "height": 163
        },
        "id": "w6HsZt9VWpGc",
        "outputId": "fe36116e-0de9-4fb8-c230-00300eb367c1"
      },
      "source": [
        "max(l)"
      ],
      "execution_count": null,
      "outputs": [
        {
          "output_type": "error",
          "ename": "ValueError",
          "evalue": "ignored",
          "traceback": [
            "\u001b[0;31m---------------------------------------------------------------------------\u001b[0m",
            "\u001b[0;31mValueError\u001b[0m                                Traceback (most recent call last)",
            "\u001b[0;32m<ipython-input-15-fd8eeca349cc>\u001b[0m in \u001b[0;36m<module>\u001b[0;34m()\u001b[0m\n\u001b[0;32m----> 1\u001b[0;31m \u001b[0mmax\u001b[0m\u001b[0;34m(\u001b[0m\u001b[0ml\u001b[0m\u001b[0;34m)\u001b[0m\u001b[0;34m\u001b[0m\u001b[0;34m\u001b[0m\u001b[0m\n\u001b[0m",
            "\u001b[0;31mValueError\u001b[0m: max() arg is an empty sequence"
          ]
        }
      ]
    }
  ]
}