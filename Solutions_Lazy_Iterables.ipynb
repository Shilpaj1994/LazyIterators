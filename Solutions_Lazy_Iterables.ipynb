{
  "nbformat": 4,
  "nbformat_minor": 0,
  "metadata": {
    "colab": {
      "name": "Solutions: Lazy Iterables.ipynb",
      "provenance": [],
      "collapsed_sections": []
    },
    "kernelspec": {
      "display_name": "Python 3",
      "name": "python3"
    },
    "language_info": {
      "name": "python"
    }
  },
  "cells": [
    {
      "cell_type": "markdown",
      "metadata": {
        "id": "keDrZOqZmUoA"
      },
      "source": [
        "# Goal 1\n",
        "Refactor the Polygon class so that all the calculated properties are lazy properties, i.e. they should still be calculated properties, but they should not have to get recalculated more than once (since we made our Polygon class \"immutable\")."
      ]
    },
    {
      "cell_type": "markdown",
      "metadata": {
        "id": "mBqcEQcAyL4q"
      },
      "source": [
        "\n",
        "## Approach 1"
      ]
    },
    {
      "cell_type": "code",
      "metadata": {
        "id": "07LqSt-JLHgW"
      },
      "source": [
        "import math\n",
        "\n",
        "\n",
        "def memoize(fn):\n",
        "    \"\"\"\n",
        "    Decorator for memoization\n",
        "    :param fn: Function on which memoization to be implemented\n",
        "    :return: Closure (inner)\n",
        "    \"\"\"\n",
        "    from functools import wraps\n",
        "    cache = dict()\n",
        "\n",
        "    @wraps(fn)\n",
        "    def inner(self=None):\n",
        "        \"\"\"\n",
        "        Closure to store and update cache\n",
        "        :param args: arguments passed to the function\n",
        "        :return: output of the function from cache if output is present in cache\n",
        "        \"\"\"\n",
        "        if fn.__name__ not in cache:\n",
        "            cache[fn.__name__] = fn(self)\n",
        "        return cache[fn.__name__]\n",
        "    return inner\n",
        "\n",
        "\n",
        "class Polygon1(object):\n",
        "    def __init__(self, n, R):\n",
        "        if n < 3:\n",
        "            raise ValueError('Polygon must have at least 3 vertices.')\n",
        "        self._n = n\n",
        "        self._R = R\n",
        "        self.cache = dict()\n",
        "        \n",
        "    def __repr__(self):\n",
        "        return f'Polygon(n={self._n}, R={self._R})'\n",
        "    \n",
        "    @property\n",
        "    @memoize\n",
        "    def count_vertices(self):\n",
        "        return self._n\n",
        "    \n",
        "    @property\n",
        "    @memoize\n",
        "    def count_edges(self):\n",
        "        return self._n\n",
        "    \n",
        "    @property\n",
        "    @memoize\n",
        "    def circumradius(self):\n",
        "        return self._R\n",
        "    \n",
        "    @property\n",
        "    @memoize\n",
        "    def interior_angle(self):\n",
        "        return (self._n - 2) * 180 / self._n\n",
        "\n",
        "    @property\n",
        "    @memoize\n",
        "    def side_length(self):\n",
        "        return 2 * self._R * math.sin(math.pi / self._n)\n",
        "    \n",
        "    @property\n",
        "    @memoize\n",
        "    def apothem(self):\n",
        "        return self._R * math.cos(math.pi / self._n)\n",
        "    \n",
        "    @property\n",
        "    @memoize\n",
        "    def area(self):\n",
        "        return self._n / 2 * self.side_length * self.apothem\n",
        "    \n",
        "    @property\n",
        "    @memoize\n",
        "    def perimeter(self):\n",
        "        return self._n * self.side_length\n",
        "    \n",
        "    def __eq__(self, other):\n",
        "        if isinstance(other, self.__class__):\n",
        "            return (self.count_edges == other.count_edges \n",
        "                    and self.circumradius == other.circumradius)\n",
        "        else:\n",
        "            return NotImplemented\n",
        "        \n",
        "    def __gt__(self, other):\n",
        "        if isinstance(other, self.__class__):\n",
        "            return self.count_vertices > other.count_vertices\n",
        "        else:\n",
        "            return NotImplemented"
      ],
      "execution_count": 19,
      "outputs": []
    },
    {
      "cell_type": "code",
      "metadata": {
        "id": "fFJE_7rETKVh"
      },
      "source": [
        "p = Polygon1(4, 5)"
      ],
      "execution_count": 20,
      "outputs": []
    },
    {
      "cell_type": "code",
      "metadata": {
        "colab": {
          "base_uri": "https://localhost:8080/"
        },
        "id": "gu15JVw6Tshg",
        "outputId": "c058e9a4-cc8f-49c9-85ff-73974b85d4ab"
      },
      "source": [
        "print(f\"Vertices: {p.count_vertices}\")\n",
        "print(f\"Edges: {p.count_edges}\")\n",
        "print(f\"Circumradius: {p.circumradius}\")\n",
        "print(f\"Interior Angle: {p.interior_angle}\")\n",
        "print(f\"Side length: {p.side_length}\")\n",
        "print(f\"Apothem: {p.apothem}\")\n",
        "print(f\"Area: {p.area}\")\n",
        "print(f\"Perimeter: {p.perimeter}\")"
      ],
      "execution_count": 21,
      "outputs": [
        {
          "output_type": "stream",
          "text": [
            "Vertices: 4\n",
            "Edges: 4\n",
            "Circumradius: 5\n",
            "Interior Angle: 90.0\n",
            "Side length: 7.071067811865475\n",
            "Apothem: 3.5355339059327378\n",
            "Area: 50.0\n",
            "Perimeter: 28.2842712474619\n"
          ],
          "name": "stdout"
        }
      ]
    },
    {
      "cell_type": "code",
      "metadata": {
        "colab": {
          "base_uri": "https://localhost:8080/"
        },
        "id": "ldnNnxYas77Z",
        "outputId": "76ef54be-01ba-4a44-8728-ba800ce1bd25"
      },
      "source": [
        "p = Polygon1(5, 5)\n",
        "\n",
        "print(f\"Vertices: {p.count_vertices}\")\n",
        "print(f\"Edges: {p.count_edges}\")\n",
        "print(f\"Circumradius: {p.circumradius}\")\n",
        "print(f\"Interior Angle: {p.interior_angle}\")\n",
        "print(f\"Side length: {p.side_length}\")\n",
        "print(f\"Apothem: {p.apothem}\")\n",
        "print(f\"Area: {p.area}\")\n",
        "print(f\"Perimeter: {p.perimeter}\")"
      ],
      "execution_count": 23,
      "outputs": [
        {
          "output_type": "stream",
          "text": [
            "Vertices: 4\n",
            "Edges: 4\n",
            "Circumradius: 5\n",
            "Interior Angle: 90.0\n",
            "Side length: 7.071067811865475\n",
            "Apothem: 3.5355339059327378\n",
            "Area: 50.0\n",
            "Perimeter: 28.2842712474619\n"
          ],
          "name": "stdout"
        }
      ]
    },
    {
      "cell_type": "markdown",
      "metadata": {
        "id": "CBqVM5oIQBFw"
      },
      "source": [
        "Here, even after creating new instance the data returned is from the old instance due to latching to cache  \n",
        "This breaks the functionality of the class"
      ]
    },
    {
      "cell_type": "markdown",
      "metadata": {
        "id": "SlIAgYvJwHqt"
      },
      "source": [
        "\n",
        "## Appraoch 2"
      ]
    },
    {
      "cell_type": "code",
      "metadata": {
        "id": "4_eITlBHu4lQ"
      },
      "source": [
        "class lazy(object):\n",
        "    def __init__(self, func):\n",
        "        self.func = func\n",
        " \n",
        "    def __get__(self, instance, cls):\n",
        "        val = self.func(instance)\n",
        "        setattr(instance, self.func.__name__, val)\n",
        "        return val\n",
        "\n",
        "\n",
        "class LazyPolygon:\n",
        "    def __init__(self, n, R):\n",
        "        if n < 3:\n",
        "            raise ValueError('Polygon must have at least 3 vertices.')\n",
        "        self._n = n\n",
        "        self._R = R\n",
        "        self.cache = dict()\n",
        "        \n",
        "    def __repr__(self):\n",
        "        return f'Polygon(n={self._n}, R={self._R})'\n",
        "    \n",
        "    @lazy\n",
        "    def count_vertices(self):\n",
        "        return self._n\n",
        "    \n",
        "    @lazy\n",
        "    def count_edges(self):\n",
        "        return self._n\n",
        "    \n",
        "    @lazy\n",
        "    def circumradius(self):\n",
        "        return self._R\n",
        "    \n",
        "    @lazy\n",
        "    def interior_angle(self):\n",
        "        return (self._n - 2) * 180 / self._n\n",
        "\n",
        "    @lazy\n",
        "    def side_length(self):\n",
        "        return 2 * self._R * math.sin(math.pi / self._n)\n",
        "    \n",
        "    @lazy\n",
        "    def apothem(self):\n",
        "        return self._R * math.cos(math.pi / self._n)\n",
        "    \n",
        "    @lazy\n",
        "    def area(self):\n",
        "        return self._n / 2 * self.side_length * self.apothem\n",
        "    \n",
        "    @lazy\n",
        "    def perimeter(self):\n",
        "        return self._n * self.side_length\n",
        "    \n",
        "    def __eq__(self, other):\n",
        "        if isinstance(other, self.__class__):\n",
        "            return (self.count_edges == other.count_edges \n",
        "                    and self.circumradius == other.circumradius)\n",
        "        else:\n",
        "            return NotImplemented\n",
        "        \n",
        "    def __gt__(self, other):\n",
        "        if isinstance(other, self.__class__):\n",
        "            return self.count_vertices > other.count_vertices\n",
        "        else:\n",
        "            return NotImplemented"
      ],
      "execution_count": 24,
      "outputs": []
    },
    {
      "cell_type": "code",
      "metadata": {
        "colab": {
          "base_uri": "https://localhost:8080/"
        },
        "id": "fayaHwCivt0P",
        "outputId": "f945c446-ebbd-41ec-da0b-ba5aad99c6d8"
      },
      "source": [
        "p2 = LazyPolygon(3, 5)\n",
        "\n",
        "print(f\"Vertices: {p2.count_vertices}\")\n",
        "print(f\"Edges: {p2.count_edges}\")\n",
        "print(f\"Circumradius: {p2.circumradius}\")\n",
        "print(f\"Interior Angle: {p2.interior_angle}\")\n",
        "print(f\"Side length: {p2.side_length}\")\n",
        "print(f\"Apothem: {p2.apothem}\")\n",
        "print(f\"Area: {p2.area}\")\n",
        "print(f\"Perimeter: {p2.perimeter}\")"
      ],
      "execution_count": 25,
      "outputs": [
        {
          "output_type": "stream",
          "text": [
            "Vertices: 3\n",
            "Edges: 3\n",
            "Circumradius: 5\n",
            "Interior Angle: 60.0\n",
            "Side length: 8.660254037844386\n",
            "Apothem: 2.5000000000000004\n",
            "Area: 32.47595264191645\n",
            "Perimeter: 25.980762113533157\n"
          ],
          "name": "stdout"
        }
      ]
    },
    {
      "cell_type": "code",
      "metadata": {
        "colab": {
          "base_uri": "https://localhost:8080/"
        },
        "id": "q0oiyyivvxW7",
        "outputId": "fc33eb09-754f-4cb0-dbc3-053c23aa7574"
      },
      "source": [
        "p2.count_vertices = 5\n",
        "\n",
        "print(f\"Vertices: {p2.count_vertices}\")\n",
        "print(f\"Edges: {p2.count_edges}\")\n",
        "print(f\"Circumradius: {p2.circumradius}\")\n",
        "print(f\"Interior Angle: {p2.interior_angle}\")\n",
        "print(f\"Side length: {p2.side_length}\")\n",
        "print(f\"Apothem: {p2.apothem}\")\n",
        "print(f\"Area: {p2.area}\")\n",
        "print(f\"Perimeter: {p2.perimeter}\")"
      ],
      "execution_count": 26,
      "outputs": [
        {
          "output_type": "stream",
          "text": [
            "Vertices: 5\n",
            "Edges: 3\n",
            "Circumradius: 5\n",
            "Interior Angle: 60.0\n",
            "Side length: 8.660254037844386\n",
            "Apothem: 2.5000000000000004\n",
            "Area: 32.47595264191645\n",
            "Perimeter: 25.980762113533157\n"
          ],
          "name": "stdout"
        }
      ]
    },
    {
      "cell_type": "markdown",
      "metadata": {
        "id": "CPX7WWO_QUyV"
      },
      "source": [
        "Here, the class is still mutable and the other properties are still cached so the output values are not related to valid regular convex polygon"
      ]
    },
    {
      "cell_type": "markdown",
      "metadata": {
        "id": "VZ_6riOPxECy"
      },
      "source": [
        "## Approach 3"
      ]
    },
    {
      "cell_type": "code",
      "metadata": {
        "id": "2EjYX6B7v0nn"
      },
      "source": [
        "import math\n",
        "\n",
        "\n",
        "def lazy_property(func):\n",
        "    \"\"\"\n",
        "    Decorator function for lazy calculations of the property\n",
        "    :param func: method to be decorator\n",
        "    :return: closure\n",
        "    \"\"\"\n",
        "    attr_name = \"_lazy_\" + func.__name__\n",
        " \n",
        "    @property\n",
        "    def _lazy_property(self):\n",
        "        \"\"\"\n",
        "        Function to calculate the property if not already done\n",
        "        :param self: instance\n",
        "        :return: value of the property\n",
        "        \"\"\"\n",
        "        if not hasattr(self, attr_name):\n",
        "            setattr(self, attr_name, func(self))\n",
        "        return getattr(self, attr_name)\n",
        "    return _lazy_property\n",
        "\n",
        "\n",
        "class Polygon:\n",
        "    \"\"\"\n",
        "    Class for lazy properties\n",
        "    \"\"\"\n",
        "    def __init__(self, n, circumradius):\n",
        "        \"\"\"\n",
        "        Constructor\n",
        "        \"\"\"\n",
        "        if n < 3:\n",
        "            raise ValueError('Polygon must have at least 3 vertices.')\n",
        "        self._n = n\n",
        "        self._R = circumradius\n",
        "        self.cache = dict()\n",
        "        \n",
        "    def __repr__(self):\n",
        "        \"\"\"\n",
        "        Function to print the details of class instance\n",
        "        \"\"\"\n",
        "        return f'Polygon(n={self._n}, R={self._R})'\n",
        "    \n",
        "    @lazy_property\n",
        "    def count_vertices(self):\n",
        "        \"\"\"\n",
        "        Property to return number of vertices of the regular polygon\n",
        "        \"\"\"\n",
        "        return self._n\n",
        "    \n",
        "    @lazy_property\n",
        "    def count_edges(self):\n",
        "        \"\"\"\n",
        "        Property to return number of edges of the regular polygon\n",
        "        \"\"\"\n",
        "        return self._n\n",
        "    \n",
        "    @lazy_property\n",
        "    def circumradius(self):\n",
        "        \"\"\"\n",
        "        Property to return circumradius of the regular polygon\n",
        "        \"\"\"\n",
        "        return self._R\n",
        "    \n",
        "    @lazy_property\n",
        "    def interior_angle(self):\n",
        "        \"\"\"\n",
        "        Property to return interior angle of the regular polygon\n",
        "        \"\"\"\n",
        "        return (self._n - 2) * 180 / self._n\n",
        "\n",
        "    @lazy_property\n",
        "    def side_length(self):\n",
        "        \"\"\"\n",
        "        Property to return length of each side of the regular polygon\n",
        "        \"\"\"\n",
        "        return 2 * self._R * math.sin(math.pi / self._n)\n",
        "    \n",
        "    @lazy_property\n",
        "    def apothem(self):\n",
        "        \"\"\"\n",
        "        Property to return perpendicular distance from center of circle to side of the regular polygon\n",
        "        \"\"\"\n",
        "        return self._R * math.cos(math.pi / self._n)\n",
        "    \n",
        "    @lazy_property\n",
        "    def area(self):\n",
        "        \"\"\"\n",
        "        Property to return area of the regular polygon\n",
        "        \"\"\"\n",
        "        return self._n / 2 * self.side_length * self.apothem\n",
        "    \n",
        "    @lazy_property\n",
        "    def perimeter(self):\n",
        "        \"\"\"\n",
        "        Property to return perimeter of the regular polygon\n",
        "        \"\"\"\n",
        "        return self._n * self.side_length\n",
        "    \n",
        "    def __eq__(self, other):\n",
        "        \"\"\"\n",
        "        Property to implement equality operator for multiple regular polygon\n",
        "        \"\"\"\n",
        "        if isinstance(other, self.__class__):\n",
        "            return (self.count_edges == other.count_edges \n",
        "                    and self.circumradius == other.circumradius)\n",
        "        else:\n",
        "            return NotImplemented\n",
        "        \n",
        "    def __gt__(self, other):\n",
        "        \"\"\"\n",
        "        Property to implement greater than operator for multiple regular polygon\n",
        "        \"\"\"\n",
        "        if isinstance(other, self.__class__):\n",
        "            return self.count_vertices > other.count_vertices\n",
        "        else:\n",
        "            return NotImplemented"
      ],
      "execution_count": 27,
      "outputs": []
    },
    {
      "cell_type": "code",
      "metadata": {
        "colab": {
          "base_uri": "https://localhost:8080/"
        },
        "id": "2WqKpf9ExV0q",
        "outputId": "a46b4072-b3ce-4bd4-cce9-2fc0faa1db12"
      },
      "source": [
        "# Create an instance and test properties\n",
        "p3 = Polygon(3, 5)\n",
        "\n",
        "print(f\"Vertices: {p3.count_vertices}\")\n",
        "print(f\"Edges: {p3.count_edges}\")\n",
        "print(f\"Circumradius: {p3.circumradius}\")\n",
        "print(f\"Interior Angle: {p3.interior_angle}\")\n",
        "print(f\"Side length: {p3.side_length}\")\n",
        "print(f\"Apothem: {p3.apothem}\")\n",
        "print(f\"Area: {p3.area}\")\n",
        "print(f\"Perimeter: {p3.perimeter}\")"
      ],
      "execution_count": 28,
      "outputs": [
        {
          "output_type": "stream",
          "text": [
            "Vertices: 3\n",
            "Edges: 3\n",
            "Circumradius: 5\n",
            "Interior Angle: 60.0\n",
            "Side length: 8.660254037844386\n",
            "Apothem: 2.5000000000000004\n",
            "Area: 32.47595264191645\n",
            "Perimeter: 25.980762113533157\n"
          ],
          "name": "stdout"
        }
      ]
    },
    {
      "cell_type": "code",
      "metadata": {
        "colab": {
          "base_uri": "https://localhost:8080/",
          "height": 180
        },
        "id": "5pzwfKgJxai6",
        "outputId": "ca294e4d-a536-4b7f-f38f-b04d07217a1a"
      },
      "source": [
        "# Check if the class is immutable\n",
        "p3.count_vertices = 5"
      ],
      "execution_count": 44,
      "outputs": [
        {
          "output_type": "error",
          "ename": "AttributeError",
          "evalue": "ignored",
          "traceback": [
            "\u001b[0;31m---------------------------------------------------------------------------\u001b[0m",
            "\u001b[0;31mAttributeError\u001b[0m                            Traceback (most recent call last)",
            "\u001b[0;32m<ipython-input-44-c0a4c41de4da>\u001b[0m in \u001b[0;36m<module>\u001b[0;34m()\u001b[0m\n\u001b[1;32m      1\u001b[0m \u001b[0;31m# Check if the class is immutable\u001b[0m\u001b[0;34m\u001b[0m\u001b[0;34m\u001b[0m\u001b[0;34m\u001b[0m\u001b[0m\n\u001b[0;32m----> 2\u001b[0;31m \u001b[0mp3\u001b[0m\u001b[0;34m.\u001b[0m\u001b[0mcount_vertices\u001b[0m \u001b[0;34m=\u001b[0m \u001b[0;36m5\u001b[0m\u001b[0;34m\u001b[0m\u001b[0;34m\u001b[0m\u001b[0m\n\u001b[0m",
            "\u001b[0;31mAttributeError\u001b[0m: can't set attribute"
          ]
        }
      ]
    },
    {
      "cell_type": "code",
      "metadata": {
        "colab": {
          "base_uri": "https://localhost:8080/"
        },
        "id": "6cSEHapiI20J",
        "outputId": "14db2415-ce02-4777-9e35-32c7e9c0025f"
      },
      "source": [
        "# Check if output is correct and no latching on the cache\n",
        "p3 = Polygon(4, 5)\n",
        "\n",
        "print(f\"Vertices: {p3.count_vertices}\")\n",
        "print(f\"Edges: {p3.count_edges}\")\n",
        "print(f\"Circumradius: {p3.circumradius}\")\n",
        "print(f\"Interior Angle: {p3.interior_angle}\")\n",
        "print(f\"Side length: {p3.side_length}\")\n",
        "print(f\"Apothem: {p3.apothem}\")\n",
        "print(f\"Area: {p3.area}\")\n",
        "print(f\"Perimeter: {p3.perimeter}\")"
      ],
      "execution_count": 45,
      "outputs": [
        {
          "output_type": "stream",
          "text": [
            "Vertices: 4\n",
            "Edges: 4\n",
            "Circumradius: 5\n",
            "Interior Angle: 90.0\n",
            "Side length: 7.071067811865475\n",
            "Apothem: 3.5355339059327378\n",
            "Area: 50.0\n",
            "Perimeter: 28.2842712474619\n"
          ],
          "name": "stdout"
        }
      ]
    },
    {
      "cell_type": "markdown",
      "metadata": {
        "id": "pm7pWktcy1Vz"
      },
      "source": [
        "---\n",
        "---"
      ]
    },
    {
      "cell_type": "markdown",
      "metadata": {
        "id": "KL4MsP7Cq_WK"
      },
      "source": [
        "### Goal 2\n",
        "Refactor the Polygons (sequence) type, into an iterable. Make sure also that the elements in the iterator are computed lazily - i.e. you can no longer use a list as an underlying storage mechanism for your polygons.\n",
        "\n",
        "You'll need to implement both an iterable, and an iterator."
      ]
    },
    {
      "cell_type": "code",
      "metadata": {
        "id": "Beoxfd-3xdtO"
      },
      "source": [
        "class Polygons:\n",
        "    \"\"\"\n",
        "    Iterable for regular polygons\n",
        "    \"\"\"\n",
        "    def __init__(self, circumradius):\n",
        "        \"\"\"\n",
        "        Constructor\n",
        "        :param circumradius: radius of a circle in which the polygons are inscribed in\n",
        "        \"\"\"\n",
        "        if circumradius < 0:\n",
        "            raise ValueError('R must be greater than 0')\n",
        "        self._m = 2\n",
        "        self._R = circumradius\n",
        "        self._instance = None\n",
        "\n",
        "    def __iter__(self):\n",
        "        \"\"\"\n",
        "        Method to make this class Iterable\n",
        "        :return: Instance of the Iterator class\n",
        "        \"\"\"\n",
        "        self._instance = self.PolygonIterator(self)\n",
        "        return self._instance\n",
        "\n",
        "    class PolygonIterator:\n",
        "        \"\"\"\n",
        "        Iterator class for the Iterable\n",
        "        \"\"\"\n",
        "        def __init__(self, obj):\n",
        "            \"\"\"\n",
        "            Constructor\n",
        "            \"\"\"\n",
        "            self._obj = obj\n",
        "            self._ratio_data = dict()\n",
        "            self.collection = []\n",
        "\n",
        "        def __iter__(self):\n",
        "            \"\"\"\n",
        "            Method to make this class Iterator\n",
        "            \"\"\"\n",
        "            return self\n",
        "\n",
        "        def __next__(self):\n",
        "            \"\"\"\n",
        "            Method to iterate over the values of iterator\n",
        "            \"\"\"\n",
        "            # Increment the number of edges\n",
        "            self._obj._m += 1\n",
        "\n",
        "            # Create a polygon with number of edges and circumradius\n",
        "            polygon = Polygon(self._obj._m, self._obj._R)\n",
        "\n",
        "            # Calculate the ratio using the porperties of the polygon\n",
        "            ratio = polygon.area / polygon.perimeter\n",
        "\n",
        "            # Keep a record of edges and ratio\n",
        "            if self._obj._m not in self._ratio_data:\n",
        "                self._ratio_data[self._obj._m] = ratio\n",
        "\n",
        "            # Append all the polygon instances\n",
        "            self.collection.append(polygon)\n",
        "\n",
        "            return polygon\n",
        "\n",
        "        @property\n",
        "        def ratio_data(self):\n",
        "            \"\"\"\n",
        "            Property to access ratio of area to perimeter of all the polygon\n",
        "            \"\"\"\n",
        "            return self._ratio_data\n",
        "\n",
        "        @property\n",
        "        def get_collection(self):\n",
        "            \"\"\"\n",
        "            Property to access instances of all the polygons\n",
        "            \"\"\"\n",
        "            return self.collection\n",
        "        \n",
        "    def __len__(self):\n",
        "        \"\"\"\n",
        "        Method to print the number of polygons in an instance\n",
        "        \"\"\"\n",
        "        return len(self._instance.ratio_data)\n",
        "    \n",
        "    def __repr__(self):\n",
        "        \"\"\"\n",
        "        Method to print information of collections\n",
        "        \"\"\" \n",
        "        return f'Collection of regular Polygons from edges 3 to {len(self._instance.ratio_data) + 2}'\n",
        "    \n",
        "    def __getitem__(self, index):\n",
        "        \"\"\"\n",
        "        Method to access the polygons using slicing and indexing\n",
        "        \"\"\"\n",
        "        if isinstance(index, int):\n",
        "            if index < 0:\n",
        "                index = len(self._instance.ratio_data) + index\n",
        "            if index < 0 or index > len(self._instance.ratio_data):\n",
        "                raise IndexError\n",
        "            else:\n",
        "                return self._instance.get_collection[index]\n",
        "        else:\n",
        "            start, stop, step = index.indices(len(self._instance.ratio_data))\n",
        "            rng = range(start, stop, step)\n",
        "            return [self._instance.get_collection[index] for index in rng]\n",
        "    \n",
        "    @property\n",
        "    def max_efficiency_polygon(self):\n",
        "        \"\"\"\n",
        "        Property to access the number of edges of a polygon with maximum area to perimeter ratio\n",
        "        \"\"\"\n",
        "        sorted_polygons = sorted(self._instance.ratio_data, reverse=True)\n",
        "        return sorted_polygons[0]"
      ],
      "execution_count": 31,
      "outputs": []
    },
    {
      "cell_type": "code",
      "metadata": {
        "id": "frt94QrTy4Q4"
      },
      "source": [
        "# Access the Lazy Iterator\n",
        "polys = Polygons(circumradius=5)\n",
        "polys_iter = iter(polys)"
      ],
      "execution_count": 36,
      "outputs": []
    },
    {
      "cell_type": "code",
      "metadata": {
        "colab": {
          "base_uri": "https://localhost:8080/"
        },
        "id": "-vFjlRP_tZVE",
        "outputId": "71a89f04-1160-4f0a-ce5b-434b3e1156e6"
      },
      "source": [
        "# Test Iterator functionality\n",
        "for _ in range(20):\n",
        "    polygon = next(polys_iter)\n",
        "    print(f\"Edges: {polygon.count_edges}\")"
      ],
      "execution_count": 37,
      "outputs": [
        {
          "output_type": "stream",
          "text": [
            "Edges: 3\n",
            "Edges: 4\n",
            "Edges: 5\n",
            "Edges: 6\n",
            "Edges: 7\n",
            "Edges: 8\n",
            "Edges: 9\n",
            "Edges: 10\n",
            "Edges: 11\n",
            "Edges: 12\n",
            "Edges: 13\n",
            "Edges: 14\n",
            "Edges: 15\n",
            "Edges: 16\n",
            "Edges: 17\n",
            "Edges: 18\n",
            "Edges: 19\n",
            "Edges: 20\n",
            "Edges: 21\n",
            "Edges: 22\n"
          ],
          "name": "stdout"
        }
      ]
    },
    {
      "cell_type": "code",
      "metadata": {
        "colab": {
          "base_uri": "https://localhost:8080/"
        },
        "id": "2tTWHyNCPJr-",
        "outputId": "3dd2179e-0704-4f84-c012-36b5d330bb0b"
      },
      "source": [
        "# Test __repr__ functionality\n",
        "print(f\"Repr data: {polys}\")"
      ],
      "execution_count": 39,
      "outputs": [
        {
          "output_type": "stream",
          "text": [
            "Repr data: Collection of regular Polygons from edges 3 to 22\n"
          ],
          "name": "stdout"
        }
      ]
    },
    {
      "cell_type": "code",
      "metadata": {
        "colab": {
          "base_uri": "https://localhost:8080/"
        },
        "id": "nGpklxlPPU0C",
        "outputId": "04bfa351-2850-45f8-b2f4-2d445e36a1ad"
      },
      "source": [
        "# Test __len__ functionality\n",
        "print(f\"Length: {len(polys)}\")"
      ],
      "execution_count": 40,
      "outputs": [
        {
          "output_type": "stream",
          "text": [
            "Length: 20\n"
          ],
          "name": "stdout"
        }
      ]
    },
    {
      "cell_type": "code",
      "metadata": {
        "colab": {
          "base_uri": "https://localhost:8080/"
        },
        "id": "xkfFJ5kwPXpn",
        "outputId": "8912f257-fc6b-4913-ae2e-7b33f7480eb2"
      },
      "source": [
        "# Test Indexing functionality\n",
        "print(f\"Indexing: {polys[::-1]}\")"
      ],
      "execution_count": 41,
      "outputs": [
        {
          "output_type": "stream",
          "text": [
            "Indexing: [Polygon(n=22, R=5), Polygon(n=21, R=5), Polygon(n=20, R=5), Polygon(n=19, R=5), Polygon(n=18, R=5), Polygon(n=17, R=5), Polygon(n=16, R=5), Polygon(n=15, R=5), Polygon(n=14, R=5), Polygon(n=13, R=5), Polygon(n=12, R=5), Polygon(n=11, R=5), Polygon(n=10, R=5), Polygon(n=9, R=5), Polygon(n=8, R=5), Polygon(n=7, R=5), Polygon(n=6, R=5), Polygon(n=5, R=5), Polygon(n=4, R=5), Polygon(n=3, R=5)]\n"
          ],
          "name": "stdout"
        }
      ]
    },
    {
      "cell_type": "code",
      "metadata": {
        "colab": {
          "base_uri": "https://localhost:8080/"
        },
        "id": "LMzvxnepPakq",
        "outputId": "df49838c-4051-4f57-d852-51ed920c9d60"
      },
      "source": [
        "# Test Slicing functionality\n",
        "print(f\"Slicing: {polys[2:5:1]}\")"
      ],
      "execution_count": 42,
      "outputs": [
        {
          "output_type": "stream",
          "text": [
            "Slicing: [Polygon(n=5, R=5), Polygon(n=6, R=5), Polygon(n=7, R=5)]\n"
          ],
          "name": "stdout"
        }
      ]
    },
    {
      "cell_type": "code",
      "metadata": {
        "colab": {
          "base_uri": "https://localhost:8080/"
        },
        "id": "pZ0be7HmPeXQ",
        "outputId": "011a8e1e-874b-4e68-83dc-a799ed8a45e6"
      },
      "source": [
        "# Test maximum efficiency functionality\n",
        "print(f\"Max efficiency: {polys.max_efficiency_polygon}\")"
      ],
      "execution_count": 43,
      "outputs": [
        {
          "output_type": "stream",
          "text": [
            "Max efficiency: 22\n"
          ],
          "name": "stdout"
        }
      ]
    }
  ]
}